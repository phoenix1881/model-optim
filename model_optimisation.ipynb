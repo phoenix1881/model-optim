{
 "cells": [
  {
   "cell_type": "markdown",
   "metadata": {},
   "source": [
    "# Identify Model Requirements and think which of these will do better"
   ]
  },
  {
   "cell_type": "markdown",
   "metadata": {},
   "source": [
    "## Model Optimisations"
   ]
  },
  {
   "cell_type": "markdown",
   "metadata": {},
   "source": [
    "### Baseline Inference"
   ]
  },
  {
   "cell_type": "code",
   "execution_count": 3,
   "metadata": {},
   "outputs": [],
   "source": [
    "import torch\n",
    "import numpy as np\n",
    "import time\n",
    "import os\n",
    "from transformers import AutoModelForCausalLM, AutoTokenizer"
   ]
  },
  {
   "cell_type": "code",
   "execution_count": 6,
   "metadata": {},
   "outputs": [],
   "source": [
    "model_name = \"gpt2\"\n",
    "device = \"mps\" if torch.cuda.is_available() else \"cpu\"\n",
    "model = AutoModelForCausalLM.from_pretrained(model_name).to(device).eval()\n",
    "tokenizer = AutoTokenizer.from_pretrained(model_name)\n"
   ]
  },
  {
   "cell_type": "code",
   "execution_count": null,
   "metadata": {
    "scrolled": true
   },
   "outputs": [],
   "source": [
    "####Lines to change when you are using custom model\n",
    "model_path = \"models/food11.pth\"  \n",
    "device = torch.device(\"cpu\")\n",
    "model = torch.load(model_path, map_location=device, weights_only=False)\n",
    "model.eval()  \n",
    "summary(model)"
   ]
  },
  {
   "cell_type": "code",
   "execution_count": 7,
   "metadata": {},
   "outputs": [
    {
     "name": "stdout",
     "output_type": "stream",
     "text": [
      " PyTorch GPT-2 Baseline\n",
      "Model Size: 497.76 MB (approx)\n",
      "Median Latency: 17.19 ms\n",
      "95th Percentile: 17.70 ms\n",
      "99th Percentile: 19.33 ms\n",
      "Throughput: 58.12 req/s\n"
     ]
    }
   ],
   "source": [
    "################Just Test#######################\n",
    "\n",
    "\n",
    "# Warm-up\n",
    "for _ in range(5):\n",
    "    _ = model(input_ids)\n",
    "\n",
    "# Benchmark inference\n",
    "num_trials = 100\n",
    "latencies = []\n",
    "\n",
    "for _ in range(num_trials):\n",
    "    start = time.time()\n",
    "    _ = model(input_ids)\n",
    "    latencies.append(time.time() - start)\n",
    "\n",
    "latencies = np.array(latencies)\n",
    "model_size = sum(p.numel() for p in model.parameters() if p.requires_grad) * 4 / 1e6  # float32\n",
    "\n",
    "# Results\n",
    "print(\" PyTorch GPT-2 Baseline\")\n",
    "print(f\"Model Size: {model_size:.2f} MB (approx)\")\n",
    "print(f\"Median Latency: {np.percentile(latencies, 50)*1000:.2f} ms\")\n",
    "print(f\"95th Percentile: {np.percentile(latencies, 95)*1000:.2f} ms\")\n",
    "print(f\"99th Percentile: {np.percentile(latencies, 99)*1000:.2f} ms\")\n",
    "print(f\"Throughput: {num_trials / np.sum(latencies):.2f} req/s\")"
   ]
  },
  {
   "cell_type": "code",
   "execution_count": 8,
   "metadata": {},
   "outputs": [
    {
     "name": "stdout",
     "output_type": "stream",
     "text": [
      "\n",
      "=== Batch Inference ===\n",
      "Batch Size: 16\n",
      "Total Tokens: 800\n",
      "Batch Throughput: 217.13 tokens/sec\n",
      "Average Time per Batch: 73.69 ms\n"
     ]
    }
   ],
   "source": [
    "# Batch Throughput Benchmark\n",
    "batch_size = 16\n",
    "batch_input = input_ids.repeat(batch_size, 1)  # Repeat same input to simulate batch\n",
    "batch_latencies = []\n",
    "num_batches = 50\n",
    "\n",
    "# Warm-up\n",
    "for _ in range(5):\n",
    "    _ = model(batch_input)\n",
    "\n",
    "for _ in range(num_batches):\n",
    "    start = time.time()\n",
    "    _ = model(batch_input)\n",
    "    batch_latencies.append(time.time() - start)\n",
    "\n",
    "total_tokens = batch_size * num_batches\n",
    "batch_fps = total_tokens / np.sum(batch_latencies)\n",
    "\n",
    "print(\"\\n=== Batch Inference ===\")\n",
    "print(f\"Batch Size: {batch_size}\")\n",
    "print(f\"Total Tokens: {total_tokens}\")\n",
    "print(f\"Batch Throughput: {batch_fps:.2f} tokens/sec\")\n",
    "print(f\"Average Time per Batch: {np.mean(batch_latencies)*1000:.2f} ms\")\n"
   ]
  },
  {
   "cell_type": "markdown",
   "metadata": {},
   "source": [
    "#### Compiled Model"
   ]
  },
  {
   "cell_type": "code",
   "execution_count": null,
   "metadata": {},
   "outputs": [],
   "source": [
    "###add\n",
    "\n",
    "model.compile()\n",
    "\n",
    "##this line to above code and run again"
   ]
  },
  {
   "cell_type": "markdown",
   "metadata": {},
   "source": [
    "### Convert to ONNX"
   ]
  },
  {
   "cell_type": "code",
   "execution_count": 9,
   "metadata": {},
   "outputs": [],
   "source": [
    "import torch\n",
    "from transformers import AutoModelForCausalLM, AutoTokenizer\n",
    "import os"
   ]
  },
  {
   "cell_type": "code",
   "execution_count": 10,
   "metadata": {},
   "outputs": [],
   "source": [
    "model_name = \"gpt2\"\n",
    "output_path = \"gpt2.onnx\"\n",
    "device = \"cuda\" if torch.cuda.is_available() else \"cpu\""
   ]
  },
  {
   "cell_type": "code",
   "execution_count": 11,
   "metadata": {},
   "outputs": [
    {
     "name": "stdout",
     "output_type": "stream",
     "text": [
      "Exported GPT-2 to ONNX format: gpt2.onnx\n",
      "Model Size: 653.66 MB\n"
     ]
    }
   ],
   "source": [
    "model = AutoModelForCausalLM.from_pretrained(model_name).to(device).eval()\n",
    "tokenizer = AutoTokenizer.from_pretrained(model_name)\n",
    "\n",
    "prompt = \"Symptoms: fever and cough\\nQuestion: What should I do?\\nAnswer:\"\n",
    "input_ids = tokenizer.encode(prompt, return_tensors=\"pt\").to(device)\n",
    "\n",
    "torch.onnx.export(\n",
    "    model,\n",
    "    input_ids,\n",
    "    f=output_path,\n",
    "    input_names=[\"input_ids\"],\n",
    "    output_names=[\"logits\"],\n",
    "    dynamic_axes={\"input_ids\": {0: \"batch\", 1: \"sequence\"}, \"logits\": {0: \"batch\"}},\n",
    "    opset_version=13,\n",
    "    do_constant_folding=True,\n",
    ")\n",
    "\n",
    "print(f\"Exported GPT-2 to ONNX format: {output_path}\")\n",
    "print(f\"Model Size: {os.path.getsize(output_path)/1e6:.2f} MB\")\n",
    "\n",
    "#______________Just a test to convert ONNX, need to scale to lab level when working on docker______________"
   ]
  },
  {
   "cell_type": "markdown",
   "metadata": {},
   "source": [
    "#### Validate ONNX Model"
   ]
  },
  {
   "cell_type": "code",
   "execution_count": 9,
   "metadata": {},
   "outputs": [],
   "source": [
    "import onnx\n",
    "onnx_model = onnx.load(\"gpt2.onnx\")\n",
    "onnx.checker.check_model(onnx_model)\n",
    "print(\"✅ ONNX model is valid.\")"
   ]
  },
  {
   "cell_type": "markdown",
   "metadata": {},
   "source": [
    "### Onnx Inference session on CPU"
   ]
  },
  {
   "cell_type": "code",
   "execution_count": 12,
   "metadata": {
    "scrolled": true
   },
   "outputs": [
    {
     "name": "stdout",
     "output_type": "stream",
     "text": [
      "ONNX Inference (Single Sample)\n",
      "Model Size: 653.66 MB\n",
      "Median Latency: 11.74 ms\n",
      "95th Percentile Latency: 11.90 ms\n",
      "99th Percentile Latency: 11.95 ms\n",
      "Throughput: 84.95 req/sec\n",
      "\n",
      "ONNX Batch Inference\n",
      "Batch Size: 16\n",
      "Batch Throughput: 115.63 tokens/sec\n",
      "Avg Batch Latency: 138.37 ms\n"
     ]
    }
   ],
   "source": [
    "import onnxruntime as ort\n",
    "import numpy as np\n",
    "import time\n",
    "import os\n",
    "from transformers import AutoTokenizer\n",
    "\n",
    "# Load tokenizer (same as PyTorch version)\n",
    "tokenizer = AutoTokenizer.from_pretrained(\"gpt2\")\n",
    "\n",
    "# Load ONNX model\n",
    "model_path = \"gpt2.onnx\"\n",
    "session = ort.InferenceSession(model_path, providers=[\"CPUExecutionProvider\"])\n",
    "\n",
    "# Prepare input\n",
    "prompt = \"Symptoms: fever and cough\\nQuestion: What should I do?\\nAnswer:\"\n",
    "input_ids = tokenizer.encode(prompt, return_tensors=\"np\").astype(np.int64)\n",
    "\n",
    "input_name = session.get_inputs()[0].name\n",
    "num_trials = 100\n",
    "\n",
    "# Warm-up\n",
    "for _ in range(5):\n",
    "    session.run(None, {input_name: input_ids})\n",
    "\n",
    "# Measure single-sample inference\n",
    "latencies = []\n",
    "for _ in range(num_trials):\n",
    "    start = time.time()\n",
    "    _ = session.run(None, {input_name: input_ids})\n",
    "    latencies.append(time.time() - start)\n",
    "\n",
    "latencies = np.array(latencies)\n",
    "model_size = os.path.getsize(model_path) / 1e6\n",
    "\n",
    "print(\"ONNX Inference (Single Sample)\")\n",
    "print(f\"Model Size: {model_size:.2f} MB\")\n",
    "print(f\"Median Latency: {np.percentile(latencies, 50)*1000:.2f} ms\")\n",
    "print(f\"95th Percentile Latency: {np.percentile(latencies, 95)*1000:.2f} ms\")\n",
    "print(f\"99th Percentile Latency: {np.percentile(latencies, 99)*1000:.2f} ms\")\n",
    "print(f\"Throughput: {num_trials / np.sum(latencies):.2f} req/sec\")\n",
    "\n",
    "# Batch throughput\n",
    "batch_size = 16\n",
    "batch_input = np.tile(input_ids, (batch_size, 1))\n",
    "batch_latencies = []\n",
    "num_batches = 50\n",
    "\n",
    "# Warm-up\n",
    "for _ in range(5):\n",
    "    session.run(None, {input_name: batch_input})\n",
    "\n",
    "for _ in range(num_batches):\n",
    "    start = time.time()\n",
    "    session.run(None, {input_name: batch_input})\n",
    "    batch_latencies.append(time.time() - start)\n",
    "\n",
    "total_tokens = batch_input.shape[0] * num_batches\n",
    "batch_fps = total_tokens / np.sum(batch_latencies)\n",
    "\n",
    "print(\"\\nONNX Batch Inference\")\n",
    "print(f\"Batch Size: {batch_size}\")\n",
    "print(f\"Batch Throughput: {batch_fps:.2f} tokens/sec\")\n",
    "print(f\"Avg Batch Latency: {np.mean(batch_latencies)*1000:.2f} ms\")\n"
   ]
  },
  {
   "cell_type": "markdown",
   "metadata": {},
   "source": [
    "### Applying Graph Optimisations"
   ]
  },
  {
   "cell_type": "code",
   "execution_count": 13,
   "metadata": {},
   "outputs": [
    {
     "name": "stdout",
     "output_type": "stream",
     "text": [
      "Saved optimized ONNX model to: gpt2_optimized.onnx\n"
     ]
    }
   ],
   "source": [
    "import onnxruntime as ort\n",
    "\n",
    "onnx_model_path = \"gpt2.onnx\"\n",
    "optimized_model_path = \"gpt2_optimized.onnx\"\n",
    "\n",
    "session_options = ort.SessionOptions()\n",
    "session_options.graph_optimization_level = ort.GraphOptimizationLevel.ORT_ENABLE_EXTENDED\n",
    "session_options.optimized_model_filepath = optimized_model_path\n",
    "\n",
    "# Run once to save optimized model\n",
    "_ = ort.InferenceSession(onnx_model_path, sess_options=session_options, providers=[\"CPUExecutionProvider\"])\n",
    "\n",
    "print(f\"Saved optimized ONNX model to: {optimized_model_path}\")\n"
   ]
  },
  {
   "cell_type": "markdown",
   "metadata": {},
   "source": [
    "#### Inference for Graph Optimised"
   ]
  },
  {
   "cell_type": "code",
   "execution_count": 14,
   "metadata": {},
   "outputs": [
    {
     "name": "stdout",
     "output_type": "stream",
     "text": [
      "📊 ONNX Optimized Inference (Single Sample)\n",
      "Model Size: 653.41 MB\n",
      "Median Latency: 12.31 ms\n",
      "95th Percentile Latency: 24.24 ms\n",
      "99th Percentile Latency: 31.38 ms\n",
      "Throughput: 73.20 req/sec\n",
      "\n",
      "📦 ONNX Optimized Batch Inference\n",
      "Batch Size: 16\n",
      "Batch Throughput: 118.04 tokens/sec\n",
      "Avg Batch Latency: 135.55 ms\n"
     ]
    }
   ],
   "source": [
    "import onnxruntime as ort\n",
    "import numpy as np\n",
    "import time\n",
    "import os\n",
    "from transformers import AutoTokenizer\n",
    "\n",
    "# Load tokenizer\n",
    "tokenizer = AutoTokenizer.from_pretrained(\"gpt2\")\n",
    "\n",
    "# Load optimized model\n",
    "model_path = \"gpt2_optimized.onnx\"\n",
    "session = ort.InferenceSession(model_path, providers=[\"CPUExecutionProvider\"])\n",
    "\n",
    "# Prepare input\n",
    "prompt = \"Symptoms: fever and cough\\nQuestion: What should I do?\\nAnswer:\"\n",
    "input_ids = tokenizer.encode(prompt, return_tensors=\"np\").astype(np.int64)\n",
    "\n",
    "input_name = session.get_inputs()[0].name\n",
    "num_trials = 100\n",
    "\n",
    "# Warm-up\n",
    "for _ in range(5):\n",
    "    session.run(None, {input_name: input_ids})\n",
    "\n",
    "# Single-sample latency\n",
    "latencies = []\n",
    "for _ in range(num_trials):\n",
    "    start = time.time()\n",
    "    _ = session.run(None, {input_name: input_ids})\n",
    "    latencies.append(time.time() - start)\n",
    "\n",
    "latencies = np.array(latencies)\n",
    "model_size = os.path.getsize(model_path) / 1e6\n",
    "\n",
    "print(\"ONNX Optimized Inference (Single Sample)\")\n",
    "print(f\"Model Size: {model_size:.2f} MB\")\n",
    "print(f\"Median Latency: {np.percentile(latencies, 50)*1000:.2f} ms\")\n",
    "print(f\"95th Percentile Latency: {np.percentile(latencies, 95)*1000:.2f} ms\")\n",
    "print(f\"99th Percentile Latency: {np.percentile(latencies, 99)*1000:.2f} ms\")\n",
    "print(f\"Throughput: {num_trials / np.sum(latencies):.2f} req/sec\")\n",
    "\n",
    "# Batch throughput\n",
    "batch_size = 16\n",
    "batch_input = np.tile(input_ids, (batch_size, 1))\n",
    "batch_latencies = []\n",
    "num_batches = 50\n",
    "\n",
    "# Warm-up\n",
    "for _ in range(5):\n",
    "    session.run(None, {input_name: batch_input})\n",
    "\n",
    "for _ in range(num_batches):\n",
    "    start = time.time()\n",
    "    session.run(None, {input_name: batch_input})\n",
    "    batch_latencies.append(time.time() - start)\n",
    "\n",
    "total_tokens = batch_input.shape[0] * num_batches\n",
    "batch_fps = total_tokens / np.sum(batch_latencies)\n",
    "\n",
    "print(\"\\n📦 ONNX Optimized Batch Inference\")\n",
    "print(f\"Batch Size: {batch_size}\")\n",
    "print(f\"Batch Throughput: {batch_fps:.2f} tokens/sec\")\n",
    "print(f\"Avg Batch Latency: {np.mean(batch_latencies)*1000:.2f} ms\")\n"
   ]
  },
  {
   "cell_type": "markdown",
   "metadata": {},
   "source": [
    "### Dynamic Quatization"
   ]
  },
  {
   "cell_type": "code",
   "execution_count": 45,
   "metadata": {
    "scrolled": true
   },
   "outputs": [
    {
     "name": "stderr",
     "output_type": "stream",
     "text": [
      "2025-05-05 17:48:17 [INFO] Start auto tuning.\n",
      "2025-05-05 17:48:17 [INFO] Quantize model without tuning!\n",
      "2025-05-05 17:48:17 [INFO] Quantize the model with default configuration without evaluating the model.                To perform the tuning process, please either provide an eval_func or provide an                    eval_dataloader an eval_metric.\n",
      "2025-05-05 17:48:17 [INFO] Adaptor has 5 recipes.\n",
      "2025-05-05 17:48:17 [INFO] 0 recipes specified by user.\n",
      "2025-05-05 17:48:17 [INFO] 3 recipes require future tuning.\n",
      "2025-05-05 17:48:17 [INFO] *** Initialize auto tuning\n",
      "2025-05-05 17:48:17 [INFO] {\n",
      "2025-05-05 17:48:17 [INFO]     'PostTrainingQuantConfig': {\n",
      "2025-05-05 17:48:17 [INFO]         'AccuracyCriterion': {\n",
      "2025-05-05 17:48:17 [INFO]             'criterion': 'relative',\n",
      "2025-05-05 17:48:17 [INFO]             'higher_is_better': True,\n",
      "2025-05-05 17:48:17 [INFO]             'tolerable_loss': 0.01,\n",
      "2025-05-05 17:48:17 [INFO]             'absolute': None,\n",
      "2025-05-05 17:48:17 [INFO]             'keys': <bound method AccuracyCriterion.keys of <neural_compressor.config.AccuracyCriterion object at 0x3110e8b50>>,\n",
      "2025-05-05 17:48:17 [INFO]             'relative': 0.01\n",
      "2025-05-05 17:48:17 [INFO]         },\n",
      "2025-05-05 17:48:17 [INFO]         'approach': 'post_training_dynamic_quant',\n",
      "2025-05-05 17:48:17 [INFO]         'backend': 'default',\n",
      "2025-05-05 17:48:17 [INFO]         'calibration_sampling_size': [\n",
      "2025-05-05 17:48:17 [INFO]             100\n",
      "2025-05-05 17:48:17 [INFO]         ],\n",
      "2025-05-05 17:48:17 [INFO]         'device': 'cpu',\n",
      "2025-05-05 17:48:17 [INFO]         'domain': 'auto',\n",
      "2025-05-05 17:48:17 [INFO]         'example_inputs': 'Not printed here due to large size tensors...',\n",
      "2025-05-05 17:48:17 [INFO]         'excluded_precisions': [\n",
      "2025-05-05 17:48:17 [INFO]         ],\n",
      "2025-05-05 17:48:17 [INFO]         'framework': 'onnxruntime',\n",
      "2025-05-05 17:48:17 [INFO]         'inputs': [\n",
      "2025-05-05 17:48:17 [INFO]         ],\n",
      "2025-05-05 17:48:17 [INFO]         'model_name': '',\n",
      "2025-05-05 17:48:17 [INFO]         'op_name_dict': None,\n",
      "2025-05-05 17:48:17 [INFO]         'op_type_dict': None,\n",
      "2025-05-05 17:48:17 [INFO]         'outputs': [\n",
      "2025-05-05 17:48:17 [INFO]         ],\n",
      "2025-05-05 17:48:17 [INFO]         'quant_format': 'default',\n",
      "2025-05-05 17:48:17 [INFO]         'quant_level': 'auto',\n",
      "2025-05-05 17:48:17 [INFO]         'recipes': {\n",
      "2025-05-05 17:48:17 [INFO]             'smooth_quant': False,\n",
      "2025-05-05 17:48:17 [INFO]             'smooth_quant_args': {\n",
      "2025-05-05 17:48:17 [INFO]             },\n",
      "2025-05-05 17:48:17 [INFO]             'layer_wise_quant': False,\n",
      "2025-05-05 17:48:17 [INFO]             'layer_wise_quant_args': {\n",
      "2025-05-05 17:48:17 [INFO]             },\n",
      "2025-05-05 17:48:17 [INFO]             'fast_bias_correction': False,\n",
      "2025-05-05 17:48:17 [INFO]             'weight_correction': False,\n",
      "2025-05-05 17:48:17 [INFO]             'gemm_to_matmul': True,\n",
      "2025-05-05 17:48:17 [INFO]             'graph_optimization_level': None,\n",
      "2025-05-05 17:48:17 [INFO]             'first_conv_or_matmul_quantization': True,\n",
      "2025-05-05 17:48:17 [INFO]             'last_conv_or_matmul_quantization': True,\n",
      "2025-05-05 17:48:17 [INFO]             'pre_post_process_quantization': True,\n",
      "2025-05-05 17:48:17 [INFO]             'add_qdq_pair_to_weight': False,\n",
      "2025-05-05 17:48:17 [INFO]             'optypes_to_exclude_output_quant': [\n",
      "2025-05-05 17:48:17 [INFO]             ],\n",
      "2025-05-05 17:48:17 [INFO]             'dedicated_qdq_pair': False,\n",
      "2025-05-05 17:48:17 [INFO]             'rtn_args': {\n",
      "2025-05-05 17:48:17 [INFO]             },\n",
      "2025-05-05 17:48:17 [INFO]             'awq_args': {\n",
      "2025-05-05 17:48:17 [INFO]             },\n",
      "2025-05-05 17:48:17 [INFO]             'gptq_args': {\n",
      "2025-05-05 17:48:17 [INFO]             },\n",
      "2025-05-05 17:48:17 [INFO]             'teq_args': {\n",
      "2025-05-05 17:48:17 [INFO]             },\n",
      "2025-05-05 17:48:17 [INFO]             'autoround_args': {\n",
      "2025-05-05 17:48:17 [INFO]             }\n",
      "2025-05-05 17:48:17 [INFO]         },\n",
      "2025-05-05 17:48:17 [INFO]         'reduce_range': None,\n",
      "2025-05-05 17:48:17 [INFO]         'TuningCriterion': {\n",
      "2025-05-05 17:48:17 [INFO]             'max_trials': 100,\n",
      "2025-05-05 17:48:17 [INFO]             'objective': [\n",
      "2025-05-05 17:48:17 [INFO]                 'performance'\n",
      "2025-05-05 17:48:17 [INFO]             ],\n",
      "2025-05-05 17:48:17 [INFO]             'strategy': 'basic',\n",
      "2025-05-05 17:48:17 [INFO]             'strategy_kwargs': None,\n",
      "2025-05-05 17:48:17 [INFO]             'timeout': 0\n",
      "2025-05-05 17:48:17 [INFO]         },\n",
      "2025-05-05 17:48:17 [INFO]         'use_bf16': True,\n",
      "2025-05-05 17:48:17 [INFO]         'ni_workload_name': 'quantization'\n",
      "2025-05-05 17:48:17 [INFO]     }\n",
      "2025-05-05 17:48:17 [INFO] }\n",
      "2025-05-05 17:48:17 [WARNING] [Strategy] Please install `mpi4py` correctly if using distributed tuning; otherwise, ignore this warning.\n",
      "2025-05-05 17:48:17 [WARNING] The model is automatically detected as a non-NLP model. You can use 'domain' argument in 'PostTrainingQuantConfig' to overwrite it\n",
      "2025-05-05 17:48:17 [WARNING] Graph optimization level is automatically set to ENABLE_BASIC. You can use 'recipe' argument in 'PostTrainingQuantConfig'to overwrite it\n",
      "2025-05-05 17:48:19 [INFO] Do not evaluate the baseline and quantize the model with default configuration.\n",
      "2025-05-05 17:48:19 [INFO] Quantize the model with default config.\n",
      "2025-05-05 17:48:25 [INFO] |**********Mixed Precision Statistics*********|\n",
      "2025-05-05 17:48:25 [INFO] +-----------------------+-------+------+------+\n",
      "2025-05-05 17:48:25 [INFO] |        Op Type        | Total | INT8 | FP32 |\n",
      "2025-05-05 17:48:25 [INFO] +-----------------------+-------+------+------+\n",
      "2025-05-05 17:48:25 [INFO] |         MatMul        |   73  |  49  |  24  |\n",
      "2025-05-05 17:48:25 [INFO] |         Gather        |   99  |  2   |  97  |\n",
      "2025-05-05 17:48:25 [INFO] |    DequantizeLinear   |   2   |  2   |  0   |\n",
      "2025-05-05 17:48:25 [INFO] | DynamicQuantizeLinear |   49  |  49  |  0   |\n",
      "2025-05-05 17:48:25 [INFO] +-----------------------+-------+------+------+\n",
      "2025-05-05 17:48:25 [INFO] Pass quantize model elapsed time: 5807.68 ms\n",
      "2025-05-05 17:48:25 [INFO] Save tuning history to /Users/tejdeepchippa/Desktop/All/MLops/Project/flask_gpt2/Optimisations/nc_workspace/2025-05-05_16-45-50/./history.snapshot.\n",
      "2025-05-05 17:48:25 [INFO] [Strategy] Found the model meets accuracy requirements, ending the tuning process.\n",
      "2025-05-05 17:48:25 [INFO] Specified timeout or max trials is reached! Found a quantized model which meet accuracy goal. Exit.\n",
      "2025-05-05 17:48:25 [INFO] Save deploy yaml to /Users/tejdeepchippa/Desktop/All/MLops/Project/flask_gpt2/Optimisations/nc_workspace/2025-05-05_16-45-50/deploy.yaml\n"
     ]
    },
    {
     "name": "stdout",
     "output_type": "stream",
     "text": [
      "Static quantized model saved: models/gpt2_quantized_static.onnx\n",
      " Model size: 165.39 MB\n",
      "✅ Quantized GPT-2 model saved to: models/gpt2_quantized_static.onnx\n",
      "📦 Model Size: 165.39 MB\n"
     ]
    }
   ],
   "source": [
    "import os\n",
    "import onnx\n",
    "import onnxruntime as ort\n",
    "from neural_compressor import quantization\n",
    "from neural_compressor.config import PostTrainingQuantConfig\n",
    "from neural_compressor.model.onnx_model import ONNXModel\n",
    "from transformers import AutoTokenizer\n",
    "import numpy as np\n",
    "import time\n",
    "\n",
    "# Paths\n",
    "fp32_model_path = \"gpt2_optimized.onnx\"\n",
    "quant_model_path = \"gpt2_quantized_dynamic_inc.onnx\"\n",
    "\n",
    "# Load the GPT-2 model into INC\n",
    "fp32_model = ONNXModel(fp32_model_path)\n",
    "\n",
    "# Configure dynamic quantization with fallback type info\n",
    "config = PostTrainingQuantConfig(\n",
    "    approach=\"dynamic\"\n",
    ")\n",
    "\n",
    "# Fit quantized model\n",
    "q_model = quantization.fit(\n",
    "    model=fp32_model,\n",
    "    conf=config\n",
    ")\n",
    "\n",
    "# Save it\n",
    "quant_model_path = \"models/gpt2_quantized_static.onnx\"\n",
    "os.makedirs(os.path.dirname(quant_model_path), exist_ok=True)\n",
    "q_model.save_model_to_file(quant_model_path)\n",
    "print(f\"Static quantized model saved: {quant_model_path}\")\n",
    "print(f\" Model size: {os.path.getsize(quant_model_path)/1e6:.2f} MB\")\n",
    "\n"
   ]
  },
  {
   "cell_type": "code",
   "execution_count": 21,
   "metadata": {
    "scrolled": true
   },
   "outputs": [
    {
     "name": "stdout",
     "output_type": "stream",
     "text": [
      "📊 Quantized GPT-2 (Dynamic)\n",
      "Model Size: 165.39 MB\n",
      "Median Latency: 7.50 ms\n",
      "95th Percentile Latency: 7.81 ms\n",
      "99th Percentile Latency: 8.97 ms\n",
      "Throughput: 132.02 req/sec\n",
      "\n",
      "📦 Quantized Batch Inference\n",
      "Batch Size: 16\n",
      "Batch Throughput: 152.59 tokens/sec\n",
      "Avg Batch Latency: 104.85 ms\n"
     ]
    }
   ],
   "source": [
    "import onnxruntime as ort\n",
    "import numpy as np\n",
    "import time\n",
    "import os\n",
    "from transformers import AutoTokenizer\n",
    "\n",
    "# Load tokenizer\n",
    "tokenizer = AutoTokenizer.from_pretrained(\"gpt2\")\n",
    "\n",
    "# Load quantized model\n",
    "model_path = \"gpt2_quantized_dynamic_inc.onnx\"\n",
    "session = ort.InferenceSession(model_path, providers=[\"CPUExecutionProvider\"])\n",
    "\n",
    "# Prepare input\n",
    "prompt = \"Symptoms: fever and cough\\nQuestion: What should I do?\\nAnswer:\"\n",
    "input_ids = tokenizer.encode(prompt, return_tensors=\"np\").astype(np.int64)\n",
    "input_name = session.get_inputs()[0].name\n",
    "\n",
    "# Warm-up\n",
    "for _ in range(5):\n",
    "    session.run(None, {input_name: input_ids})\n",
    "\n",
    "# Single-sample latency\n",
    "num_trials = 100\n",
    "latencies = []\n",
    "\n",
    "for _ in range(num_trials):\n",
    "    start = time.time()\n",
    "    _ = session.run(None, {input_name: input_ids})\n",
    "    latencies.append(time.time() - start)\n",
    "\n",
    "latencies = np.array(latencies)\n",
    "model_size = os.path.getsize(model_path) / 1e6\n",
    "\n",
    "print(\"📊 Quantized GPT-2 (Dynamic)\")\n",
    "print(f\"Model Size: {model_size:.2f} MB\")\n",
    "print(f\"Median Latency: {np.percentile(latencies, 50)*1000:.2f} ms\")\n",
    "print(f\"95th Percentile Latency: {np.percentile(latencies, 95)*1000:.2f} ms\")\n",
    "print(f\"99th Percentile Latency: {np.percentile(latencies, 99)*1000:.2f} ms\")\n",
    "print(f\"Throughput: {num_trials / np.sum(latencies):.2f} req/sec\")\n",
    "\n",
    "# Batch throughput\n",
    "batch_size = 16\n",
    "batch_input = np.tile(input_ids, (batch_size, 1))\n",
    "batch_latencies = []\n",
    "num_batches = 50\n",
    "\n",
    "# Warm-up\n",
    "for _ in range(5):\n",
    "    session.run(None, {input_name: batch_input})\n",
    "\n",
    "for _ in range(num_batches):\n",
    "    start = time.time()\n",
    "    session.run(None, {input_name: batch_input})\n",
    "    batch_latencies.append(time.time() - start)\n",
    "\n",
    "total_tokens = batch_input.shape[0] * num_batches\n",
    "batch_fps = total_tokens / np.sum(batch_latencies)\n",
    "\n",
    "print(\"\\n📦 Quantized Batch Inference\")\n",
    "print(f\"Batch Size: {batch_size}\")\n",
    "print(f\"Batch Throughput: {batch_fps:.2f} tokens/sec\")\n",
    "print(f\"Avg Batch Latency: {np.mean(batch_latencies)*1000:.2f} ms\")\n"
   ]
  },
  {
   "cell_type": "markdown",
   "metadata": {},
   "source": [
    "### Static Quantisation"
   ]
  },
  {
   "cell_type": "code",
   "execution_count": 32,
   "metadata": {},
   "outputs": [],
   "source": [
    "from transformers import AutoTokenizer\n",
    "import numpy as np\n",
    "import torch\n",
    "\n",
    "class GPT2CalibrationDataLoader:\n",
    "    def __init__(self, tokenizer, batch_size=8, num_batches=10):\n",
    "        self.tokenizer = tokenizer\n",
    "        self.batch_size = batch_size\n",
    "        self.num_batches = num_batches\n",
    "        self.prompt = \"Symptoms: fever and cough. Question: What should I do?\"\n",
    "\n",
    "    def __len__(self):\n",
    "        return self.num_batches\n",
    "\n",
    "    def __iter__(self):\n",
    "        for _ in range(self.num_batches):\n",
    "            input_ids = self.tokenizer.encode(self.prompt, return_tensors=\"np\").astype(np.int64)\n",
    "            batch = np.tile(input_ids, (self.batch_size, 1))  # shape (B, T)\n",
    "            dummy_labels = np.zeros((self.batch_size,))       # 🟡 placeholder\n",
    "            yield (batch, dummy_labels)\n"
   ]
  },
  {
   "cell_type": "code",
   "execution_count": 44,
   "metadata": {
    "scrolled": true
   },
   "outputs": [
    {
     "name": "stderr",
     "output_type": "stream",
     "text": [
      "2025-05-05 17:45:47 [INFO] Start auto tuning.\n",
      "2025-05-05 17:45:47 [INFO] Quantize model without tuning!\n",
      "2025-05-05 17:45:47 [INFO] Quantize the model with default configuration without evaluating the model.                To perform the tuning process, please either provide an eval_func or provide an                    eval_dataloader an eval_metric.\n",
      "2025-05-05 17:45:47 [INFO] Adaptor has 5 recipes.\n",
      "2025-05-05 17:45:47 [INFO] 0 recipes specified by user.\n",
      "2025-05-05 17:45:47 [INFO] 3 recipes require future tuning.\n",
      "2025-05-05 17:45:47 [INFO] *** Initialize auto tuning\n",
      "2025-05-05 17:45:47 [INFO] {\n",
      "2025-05-05 17:45:47 [INFO]     'PostTrainingQuantConfig': {\n",
      "2025-05-05 17:45:47 [INFO]         'AccuracyCriterion': {\n",
      "2025-05-05 17:45:47 [INFO]             'criterion': 'relative',\n",
      "2025-05-05 17:45:47 [INFO]             'higher_is_better': True,\n",
      "2025-05-05 17:45:47 [INFO]             'tolerable_loss': 0.05,\n",
      "2025-05-05 17:45:47 [INFO]             'absolute': None,\n",
      "2025-05-05 17:45:47 [INFO]             'keys': <bound method AccuracyCriterion.keys of <neural_compressor.config.AccuracyCriterion object at 0x3097127f0>>,\n",
      "2025-05-05 17:45:47 [INFO]             'relative': 0.05\n",
      "2025-05-05 17:45:47 [INFO]         },\n",
      "2025-05-05 17:45:47 [INFO]         'approach': 'post_training_static_quant',\n",
      "2025-05-05 17:45:47 [INFO]         'backend': 'default',\n",
      "2025-05-05 17:45:47 [INFO]         'calibration_sampling_size': [\n",
      "2025-05-05 17:45:47 [INFO]             8\n",
      "2025-05-05 17:45:47 [INFO]         ],\n",
      "2025-05-05 17:45:47 [INFO]         'device': 'cpu',\n",
      "2025-05-05 17:45:47 [INFO]         'domain': 'auto',\n",
      "2025-05-05 17:45:47 [INFO]         'example_inputs': 'Not printed here due to large size tensors...',\n",
      "2025-05-05 17:45:47 [INFO]         'excluded_precisions': [\n",
      "2025-05-05 17:45:47 [INFO]         ],\n",
      "2025-05-05 17:45:47 [INFO]         'framework': 'onnxruntime',\n",
      "2025-05-05 17:45:47 [INFO]         'inputs': [\n",
      "2025-05-05 17:45:47 [INFO]         ],\n",
      "2025-05-05 17:45:47 [INFO]         'model_name': '',\n",
      "2025-05-05 17:45:47 [INFO]         'op_name_dict': None,\n",
      "2025-05-05 17:45:47 [INFO]         'op_type_dict': None,\n",
      "2025-05-05 17:45:47 [INFO]         'outputs': [\n",
      "2025-05-05 17:45:47 [INFO]         ],\n",
      "2025-05-05 17:45:47 [INFO]         'quant_format': 'default',\n",
      "2025-05-05 17:45:47 [INFO]         'quant_level': 'auto',\n",
      "2025-05-05 17:45:47 [INFO]         'recipes': {\n",
      "2025-05-05 17:45:47 [INFO]             'smooth_quant': False,\n",
      "2025-05-05 17:45:47 [INFO]             'smooth_quant_args': {\n",
      "2025-05-05 17:45:47 [INFO]             },\n",
      "2025-05-05 17:45:47 [INFO]             'layer_wise_quant': False,\n",
      "2025-05-05 17:45:47 [INFO]             'layer_wise_quant_args': {\n",
      "2025-05-05 17:45:47 [INFO]             },\n",
      "2025-05-05 17:45:47 [INFO]             'fast_bias_correction': False,\n",
      "2025-05-05 17:45:47 [INFO]             'weight_correction': False,\n",
      "2025-05-05 17:45:47 [INFO]             'gemm_to_matmul': True,\n",
      "2025-05-05 17:45:47 [INFO]             'graph_optimization_level': None,\n",
      "2025-05-05 17:45:47 [INFO]             'first_conv_or_matmul_quantization': True,\n",
      "2025-05-05 17:45:47 [INFO]             'last_conv_or_matmul_quantization': True,\n",
      "2025-05-05 17:45:47 [INFO]             'pre_post_process_quantization': True,\n",
      "2025-05-05 17:45:47 [INFO]             'add_qdq_pair_to_weight': False,\n",
      "2025-05-05 17:45:47 [INFO]             'optypes_to_exclude_output_quant': [\n",
      "2025-05-05 17:45:47 [INFO]             ],\n",
      "2025-05-05 17:45:47 [INFO]             'dedicated_qdq_pair': False,\n",
      "2025-05-05 17:45:47 [INFO]             'rtn_args': {\n",
      "2025-05-05 17:45:47 [INFO]             },\n",
      "2025-05-05 17:45:47 [INFO]             'awq_args': {\n",
      "2025-05-05 17:45:47 [INFO]             },\n",
      "2025-05-05 17:45:47 [INFO]             'gptq_args': {\n",
      "2025-05-05 17:45:47 [INFO]             },\n",
      "2025-05-05 17:45:47 [INFO]             'teq_args': {\n",
      "2025-05-05 17:45:47 [INFO]             },\n",
      "2025-05-05 17:45:47 [INFO]             'autoround_args': {\n",
      "2025-05-05 17:45:47 [INFO]             }\n",
      "2025-05-05 17:45:47 [INFO]         },\n",
      "2025-05-05 17:45:47 [INFO]         'reduce_range': None,\n",
      "2025-05-05 17:45:47 [INFO]         'TuningCriterion': {\n",
      "2025-05-05 17:45:47 [INFO]             'max_trials': 100,\n",
      "2025-05-05 17:45:47 [INFO]             'objective': [\n",
      "2025-05-05 17:45:47 [INFO]                 'performance'\n",
      "2025-05-05 17:45:47 [INFO]             ],\n",
      "2025-05-05 17:45:47 [INFO]             'strategy': 'basic',\n",
      "2025-05-05 17:45:47 [INFO]             'strategy_kwargs': None,\n",
      "2025-05-05 17:45:47 [INFO]             'timeout': 0\n",
      "2025-05-05 17:45:47 [INFO]         },\n",
      "2025-05-05 17:45:47 [INFO]         'use_bf16': True,\n",
      "2025-05-05 17:45:47 [INFO]         'ni_workload_name': 'quantization'\n",
      "2025-05-05 17:45:47 [INFO]     }\n",
      "2025-05-05 17:45:47 [INFO] }\n",
      "2025-05-05 17:45:47 [WARNING] [Strategy] Please install `mpi4py` correctly if using distributed tuning; otherwise, ignore this warning.\n",
      "2025-05-05 17:45:47 [WARNING] The model is automatically detected as a non-NLP model. You can use 'domain' argument in 'PostTrainingQuantConfig' to overwrite it\n",
      "2025-05-05 17:45:47 [WARNING] Graph optimization level is automatically set to ENABLE_BASIC. You can use 'recipe' argument in 'PostTrainingQuantConfig'to overwrite it\n",
      "2025-05-05 17:45:50 [INFO] Do not evaluate the baseline and quantize the model with default configuration.\n",
      "2025-05-05 17:45:50 [INFO] Quantize the model with default config.\n",
      "2025-05-05 17:46:00 [INFO] |*******Mixed Precision Statistics*******|\n",
      "2025-05-05 17:46:00 [INFO] +------------------+-------+------+------+\n",
      "2025-05-05 17:46:00 [INFO] |     Op Type      | Total | INT8 | FP32 |\n",
      "2025-05-05 17:46:00 [INFO] +------------------+-------+------+------+\n",
      "2025-05-05 17:46:00 [INFO] |      MatMul      |   73  |  73  |  0   |\n",
      "2025-05-05 17:46:00 [INFO] |      Gather      |   99  |  2   |  97  |\n",
      "2025-05-05 17:46:00 [INFO] |      Split       |   12  |  12  |  0   |\n",
      "2025-05-05 17:46:00 [INFO] |       Add        |   73  |  73  |  0   |\n",
      "2025-05-05 17:46:00 [INFO] |     Squeeze      |   85  |  0   |  85  |\n",
      "2025-05-05 17:46:00 [INFO] |     Reshape      |  146  | 108  |  38  |\n",
      "2025-05-05 17:46:00 [INFO] |      Concat      |   97  |  0   |  97  |\n",
      "2025-05-05 17:46:00 [INFO] |    Unsqueeze     |  171  |  0   | 171  |\n",
      "2025-05-05 17:46:00 [INFO] |    Transpose     |   60  |  60  |  0   |\n",
      "2025-05-05 17:46:00 [INFO] |      Slice       |  109  |  0   | 109  |\n",
      "2025-05-05 17:46:00 [INFO] |  QuantizeLinear  |   49  |  49  |  0   |\n",
      "2025-05-05 17:46:00 [INFO] | DequantizeLinear |   98  |  98  |  0   |\n",
      "2025-05-05 17:46:00 [INFO] +------------------+-------+------+------+\n",
      "2025-05-05 17:46:00 [INFO] Pass quantize model elapsed time: 10186.75 ms\n",
      "2025-05-05 17:46:00 [INFO] Save tuning history to /Users/tejdeepchippa/Desktop/All/MLops/Project/flask_gpt2/Optimisations/nc_workspace/2025-05-05_16-45-50/./history.snapshot.\n",
      "2025-05-05 17:46:00 [INFO] [Strategy] Found the model meets accuracy requirements, ending the tuning process.\n",
      "2025-05-05 17:46:00 [INFO] Specified timeout or max trials is reached! Found a quantized model which meet accuracy goal. Exit.\n",
      "2025-05-05 17:46:00 [INFO] Save deploy yaml to /Users/tejdeepchippa/Desktop/All/MLops/Project/flask_gpt2/Optimisations/nc_workspace/2025-05-05_16-45-50/deploy.yaml\n"
     ]
    },
    {
     "ename": "FileNotFoundError",
     "evalue": "[Errno 2] No such file or directory: 'models/gpt2_quantized_static.onnx'",
     "output_type": "error",
     "traceback": [
      "\u001b[0;31m---------------------------------------------------------------------------\u001b[0m",
      "\u001b[0;31mFileNotFoundError\u001b[0m                         Traceback (most recent call last)",
      "Cell \u001b[0;32mIn[44], line 36\u001b[0m\n\u001b[1;32m     29\u001b[0m q_model \u001b[38;5;241m=\u001b[39m quantization\u001b[38;5;241m.\u001b[39mfit(\n\u001b[1;32m     30\u001b[0m     model\u001b[38;5;241m=\u001b[39mfp32_model,\n\u001b[1;32m     31\u001b[0m     conf\u001b[38;5;241m=\u001b[39mconfig,\n\u001b[1;32m     32\u001b[0m     calib_dataloader\u001b[38;5;241m=\u001b[39mcalib_loader\n\u001b[1;32m     33\u001b[0m )\n\u001b[1;32m     35\u001b[0m \u001b[38;5;66;03m# Save\u001b[39;00m\n\u001b[0;32m---> 36\u001b[0m \u001b[43mq_model\u001b[49m\u001b[38;5;241;43m.\u001b[39;49m\u001b[43msave_model_to_file\u001b[49m\u001b[43m(\u001b[49m\u001b[43mquant_model_path\u001b[49m\u001b[43m)\u001b[49m\n\u001b[1;32m     37\u001b[0m \u001b[38;5;28mprint\u001b[39m(\u001b[38;5;124mf\u001b[39m\u001b[38;5;124m\"\u001b[39m\u001b[38;5;124mStatic quantized model saved: \u001b[39m\u001b[38;5;132;01m{\u001b[39;00mquant_model_path\u001b[38;5;132;01m}\u001b[39;00m\u001b[38;5;124m\"\u001b[39m)\n\u001b[1;32m     38\u001b[0m \u001b[38;5;28mprint\u001b[39m(\u001b[38;5;124mf\u001b[39m\u001b[38;5;124m\"\u001b[39m\u001b[38;5;124m Model size: \u001b[39m\u001b[38;5;132;01m{\u001b[39;00mos\u001b[38;5;241m.\u001b[39mpath\u001b[38;5;241m.\u001b[39mgetsize(quant_model_path)\u001b[38;5;241m/\u001b[39m\u001b[38;5;241m1e6\u001b[39m\u001b[38;5;132;01m:\u001b[39;00m\u001b[38;5;124m.2f\u001b[39m\u001b[38;5;132;01m}\u001b[39;00m\u001b[38;5;124m MB\u001b[39m\u001b[38;5;124m\"\u001b[39m)\n",
      "File \u001b[0;32m~/miniconda3/envs/mlops/lib/python3.9/site-packages/neural_compressor/model/onnx_model.py:460\u001b[0m, in \u001b[0;36mONNXModel.save_model_to_file\u001b[0;34m(self, output_path, use_external_data_format)\u001b[0m\n\u001b[1;32m    456\u001b[0m \u001b[38;5;28;01mif\u001b[39;00m use_external_data_format:\n\u001b[1;32m    457\u001b[0m     convert_model_to_external_data(\n\u001b[1;32m    458\u001b[0m         \u001b[38;5;28mself\u001b[39m\u001b[38;5;241m.\u001b[39m_model, all_tensors_to_one_file\u001b[38;5;241m=\u001b[39m\u001b[38;5;28;01mTrue\u001b[39;00m, location\u001b[38;5;241m=\u001b[39mPath(output_path)\u001b[38;5;241m.\u001b[39mname \u001b[38;5;241m+\u001b[39m \u001b[38;5;124m\"\u001b[39m\u001b[38;5;124m.data\u001b[39m\u001b[38;5;124m\"\u001b[39m\n\u001b[1;32m    459\u001b[0m     )\n\u001b[0;32m--> 460\u001b[0m \u001b[43monnx\u001b[49m\u001b[38;5;241;43m.\u001b[39;49m\u001b[43msave_model\u001b[49m\u001b[43m(\u001b[49m\u001b[38;5;28;43mself\u001b[39;49m\u001b[38;5;241;43m.\u001b[39;49m\u001b[43m_model\u001b[49m\u001b[43m,\u001b[49m\u001b[43m \u001b[49m\u001b[43moutput_path\u001b[49m\u001b[43m)\u001b[49m\n",
      "File \u001b[0;32m~/miniconda3/envs/mlops/lib/python3.9/site-packages/onnx/__init__.py:330\u001b[0m, in \u001b[0;36msave_model\u001b[0;34m(proto, f, format, save_as_external_data, all_tensors_to_one_file, location, size_threshold, convert_attribute)\u001b[0m\n\u001b[1;32m    327\u001b[0m     proto \u001b[38;5;241m=\u001b[39m write_external_data_tensors(proto, basepath)\n\u001b[1;32m    329\u001b[0m serialized \u001b[38;5;241m=\u001b[39m _get_serializer(\u001b[38;5;28mformat\u001b[39m, model_filepath)\u001b[38;5;241m.\u001b[39mserialize_proto(proto)\n\u001b[0;32m--> 330\u001b[0m \u001b[43m_save_bytes\u001b[49m\u001b[43m(\u001b[49m\u001b[43mserialized\u001b[49m\u001b[43m,\u001b[49m\u001b[43m \u001b[49m\u001b[43mf\u001b[49m\u001b[43m)\u001b[49m\n",
      "File \u001b[0;32m~/miniconda3/envs/mlops/lib/python3.9/site-packages/onnx/__init__.py:159\u001b[0m, in \u001b[0;36m_save_bytes\u001b[0;34m(content, f)\u001b[0m\n\u001b[1;32m    157\u001b[0m \u001b[38;5;28;01melse\u001b[39;00m:\n\u001b[1;32m    158\u001b[0m     f \u001b[38;5;241m=\u001b[39m typing\u001b[38;5;241m.\u001b[39mcast(Union[\u001b[38;5;28mstr\u001b[39m, os\u001b[38;5;241m.\u001b[39mPathLike], f)\n\u001b[0;32m--> 159\u001b[0m     \u001b[38;5;28;01mwith\u001b[39;00m \u001b[38;5;28;43mopen\u001b[39;49m\u001b[43m(\u001b[49m\u001b[43mf\u001b[49m\u001b[43m,\u001b[49m\u001b[43m \u001b[49m\u001b[38;5;124;43m\"\u001b[39;49m\u001b[38;5;124;43mwb\u001b[39;49m\u001b[38;5;124;43m\"\u001b[39;49m\u001b[43m)\u001b[49m \u001b[38;5;28;01mas\u001b[39;00m writable:\n\u001b[1;32m    160\u001b[0m         writable\u001b[38;5;241m.\u001b[39mwrite(content)\n",
      "\u001b[0;31mFileNotFoundError\u001b[0m: [Errno 2] No such file or directory: 'models/gpt2_quantized_static.onnx'"
     ]
    }
   ],
   "source": [
    "import os\n",
    "import onnx\n",
    "from transformers import AutoTokenizer\n",
    "from neural_compressor import quantization\n",
    "from neural_compressor.config import PostTrainingQuantConfig, AccuracyCriterion\n",
    "from neural_compressor.model.onnx_model import ONNXModel\n",
    "\n",
    "# Override: Use float type when type inference fails\n",
    "os.environ[\"INC_ONNX_DEFAULT_TENSOR_TYPE\"] = str(onnx.TensorProto.FLOAT)\n",
    "\n",
    "# Prepare calibration loader\n",
    "tokenizer = AutoTokenizer.from_pretrained(\"gpt2\")\n",
    "calib_loader = GPT2CalibrationDataLoader(tokenizer=tokenizer)\n",
    "\n",
    "# Prepare config\n",
    "config = PostTrainingQuantConfig(\n",
    "    approach=\"static\",\n",
    "    calibration_sampling_size=calib_loader.batch_size,\n",
    "    excluded_precisions=[],\n",
    "    accuracy_criterion=AccuracyCriterion(tolerable_loss=0.05, higher_is_better=True)\n",
    ")\n",
    "\n",
    "# Load model\n",
    "fp32_model_path = \"gpt2_optimized.onnx\"\n",
    "quant_model_path = \"models/gpt2_quantized_static.onnx\"\n",
    "fp32_model = ONNXModel(fp32_model_path)\n",
    "\n",
    "# Quantize\n",
    "q_model = quantization.fit(\n",
    "    model=fp32_model,\n",
    "    conf=config,\n",
    "    calib_dataloader=calib_loader\n",
    ")\n",
    "\n",
    "# Save\n",
    "q_model.save_model_to_file(quant_model_path)\n",
    "print(f\"Static quantized model saved: {quant_model_path}\")\n",
    "print(f\" Model size: {os.path.getsize(quant_model_path)/1e6:.2f} MB\")\n"
   ]
  },
  {
   "cell_type": "code",
   "execution_count": 34,
   "metadata": {
    "scrolled": true
   },
   "outputs": [
    {
     "name": "stdout",
     "output_type": "stream",
     "text": [
      "📊 ONNX Optimized Inference (Single Sample)\n",
      "Model Size: 165.23 MB\n",
      "Median Latency: 7.90 ms\n",
      "95th Percentile Latency: 7.92 ms\n",
      "99th Percentile Latency: 7.93 ms\n",
      "Throughput: 126.63 req/sec\n",
      "\n",
      "📦 ONNX Optimized Batch Inference\n",
      "Batch Size: 16\n",
      "Batch Throughput: 139.42 tokens/sec\n",
      "Avg Batch Latency: 114.76 ms\n"
     ]
    }
   ],
   "source": [
    "import onnxruntime as ort\n",
    "import numpy as np\n",
    "import time\n",
    "import os\n",
    "from transformers import AutoTokenizer\n",
    "\n",
    "# Load tokenizer\n",
    "tokenizer = AutoTokenizer.from_pretrained(\"gpt2\")\n",
    "\n",
    "# Load optimized model\n",
    "model_path = \"gpt2_quantized_static.onnx\"\n",
    "session = ort.InferenceSession(model_path, providers=[\"CPUExecutionProvider\"])\n",
    "\n",
    "# Prepare input\n",
    "prompt = \"Symptoms: fever and cough\\nQuestion: What should I do?\\nAnswer:\"\n",
    "input_ids = tokenizer.encode(prompt, return_tensors=\"np\").astype(np.int64)\n",
    "\n",
    "input_name = session.get_inputs()[0].name\n",
    "num_trials = 100\n",
    "\n",
    "# Warm-up\n",
    "for _ in range(5):\n",
    "    session.run(None, {input_name: input_ids})\n",
    "\n",
    "# Single-sample latency\n",
    "latencies = []\n",
    "for _ in range(num_trials):\n",
    "    start = time.time()\n",
    "    _ = session.run(None, {input_name: input_ids})\n",
    "    latencies.append(time.time() - start)\n",
    "\n",
    "latencies = np.array(latencies)\n",
    "model_size = os.path.getsize(model_path) / 1e6\n",
    "\n",
    "print(\"📊 ONNX Optimized Inference (Single Sample)\")\n",
    "print(f\"Model Size: {model_size:.2f} MB\")\n",
    "print(f\"Median Latency: {np.percentile(latencies, 50)*1000:.2f} ms\")\n",
    "print(f\"95th Percentile Latency: {np.percentile(latencies, 95)*1000:.2f} ms\")\n",
    "print(f\"99th Percentile Latency: {np.percentile(latencies, 99)*1000:.2f} ms\")\n",
    "print(f\"Throughput: {num_trials / np.sum(latencies):.2f} req/sec\")\n",
    "\n",
    "# Batch throughput\n",
    "batch_size = 16\n",
    "batch_input = np.tile(input_ids, (batch_size, 1))\n",
    "batch_latencies = []\n",
    "num_batches = 50\n",
    "\n",
    "# Warm-up\n",
    "for _ in range(5):\n",
    "    session.run(None, {input_name: batch_input})\n",
    "\n",
    "for _ in range(num_batches):\n",
    "    start = time.time()\n",
    "    session.run(None, {input_name: batch_input})\n",
    "    batch_latencies.append(time.time() - start)\n",
    "\n",
    "total_tokens = batch_input.shape[0] * num_batches\n",
    "batch_fps = total_tokens / np.sum(batch_latencies)\n",
    "\n",
    "print(\"\\n📦 ONNX Optimized Batch Inference\")\n",
    "print(f\"Batch Size: {batch_size}\")\n",
    "print(f\"Batch Throughput: {batch_fps:.2f} tokens/sec\")\n",
    "print(f\"Avg Batch Latency: {np.mean(batch_latencies)*1000:.2f} ms\")\n"
   ]
  },
  {
   "cell_type": "markdown",
   "metadata": {},
   "source": [
    "### Different Execution Providers"
   ]
  },
  {
   "cell_type": "code",
   "execution_count": 40,
   "metadata": {},
   "outputs": [],
   "source": [
    "import onnxruntime as ort\n",
    "import numpy as np\n",
    "import time\n",
    "import os\n",
    "from transformers import AutoTokenizer\n",
    "\n",
    "def benchmark_onnx_model(model_path, provider=\"CPUExecutionProvider\", prompt=None, batch_size=16, num_trials=100, num_batches=50):\n",
    "    tokenizer = AutoTokenizer.from_pretrained(\"gpt2\")\n",
    "    prompt = prompt or \"Symptoms: fever and cough\\nQuestion: What should I do?\\nAnswer:\"\n",
    "    input_ids = tokenizer.encode(prompt, return_tensors=\"np\").astype(np.int64)\n",
    "\n",
    "    session = ort.InferenceSession(model_path, providers=[provider])\n",
    "    input_name = session.get_inputs()[0].name\n",
    "\n",
    "    # Warm-up\n",
    "    for _ in range(5):\n",
    "        session.run(None, {input_name: input_ids})\n",
    "\n",
    "    # Single-sample latency\n",
    "    latencies = []\n",
    "    for _ in range(num_trials):\n",
    "        start = time.time()\n",
    "        _ = session.run(None, {input_name: input_ids})\n",
    "        latencies.append(time.time() - start)\n",
    "    latencies = np.array(latencies)\n",
    "\n",
    "    # Model size\n",
    "    model_size = os.path.getsize(model_path) / 1e6\n",
    "\n",
    "    print(f\"\\n📊 Benchmark — {os.path.basename(model_path)} on {provider}\")\n",
    "    print(f\"Model Size: {model_size:.2f} MB\")\n",
    "    print(f\"Median Latency: {np.percentile(latencies, 50)*1000:.2f} ms\")\n",
    "    print(f\"95th Percentile: {np.percentile(latencies, 95)*1000:.2f} ms\")\n",
    "    print(f\"99th Percentile: {np.percentile(latencies, 99)*1000:.2f} ms\")\n",
    "    print(f\"Throughput: {num_trials / np.sum(latencies):.2f} req/sec\")\n",
    "\n",
    "    # Batch throughput\n",
    "    batch_input = np.tile(input_ids, (batch_size, 1))\n",
    "    for _ in range(5):\n",
    "        session.run(None, {input_name: batch_input})\n",
    "\n",
    "    batch_latencies = []\n",
    "    for _ in range(num_batches):\n",
    "        start = time.time()\n",
    "        session.run(None, {input_name: batch_input})\n",
    "        batch_latencies.append(time.time() - start)\n",
    "\n",
    "    total_tokens = batch_input.shape[0] * num_batches\n",
    "    batch_fps = total_tokens / np.sum(batch_latencies)\n",
    "\n",
    "    print(f\"\\n📦 Batch Size: {batch_size}\")\n",
    "    print(f\"Batch Throughput: {batch_fps:.2f} tokens/sec\")\n",
    "    print(f\"Avg Batch Latency: {np.mean(batch_latencies)*1000:.2f} ms\")\n"
   ]
  },
  {
   "cell_type": "code",
   "execution_count": null,
   "metadata": {},
   "outputs": [],
   "source": [
    "import onnxruntime as ort\n",
    "print(\"Available Providers:\", ort.get_available_providers())"
   ]
  },
  {
   "cell_type": "code",
   "execution_count": 7,
   "metadata": {},
   "outputs": [
    {
     "name": "stdout",
     "output_type": "stream",
     "text": [
      "ONNX Inference Latency (median): 9.14 ms\n",
      "Throughput: 108.20 req/s\n"
     ]
    },
    {
     "data": {
      "text/plain": [
       "'CPU'"
      ]
     },
     "execution_count": 7,
     "metadata": {},
     "output_type": "execute_result"
    }
   ],
   "source": [
    "model_path = \"gpt2_quantized_static.onnx\"\n",
    "for provider in [\"CPUExecutionProvider\", \"CUDAExecutionProvider\", \"TensorrtExecutionProvider\"]:\n",
    "    if provider in ort.get_available_providers():\n",
    "        benchmark_onnx_model(model_path, provider=provider)\n",
    "    else:\n",
    "        print(f\"❌ {provider} not available on this machine.\")\n"
   ]
  },
  {
   "cell_type": "code",
   "execution_count": 43,
   "metadata": {},
   "outputs": [
    {
     "name": "stdout",
     "output_type": "stream",
     "text": [
      "*************** EP Error ***************\n",
      "EP Error Unknown Provider Type: mps when using ['mps']\n",
      "Falling back to ['CPUExecutionProvider'] and retrying.\n",
      "****************************************\n",
      "*************** EP Error ***************\n",
      "EP Error Unknown Provider Type: mps when using ['mps']\n",
      "Falling back to ['CPUExecutionProvider'] and retrying.\n",
      "****************************************\n",
      "\n",
      "📊 Benchmark — gpt2.onnx on mps\n",
      "Model Size: 653.66 MB\n",
      "Median Latency: 11.71 ms\n",
      "95th Percentile: 12.18 ms\n",
      "99th Percentile: 14.61 ms\n",
      "Throughput: 84.47 req/sec\n",
      "\n",
      "📦 Batch Size: 16\n",
      "Batch Throughput: 117.91 tokens/sec\n",
      "Avg Batch Latency: 135.70 ms\n"
     ]
    },
    {
     "data": {
      "text/plain": [
       "'CPU'"
      ]
     },
     "execution_count": 43,
     "metadata": {},
     "output_type": "execute_result"
    }
   ],
   "source": [
    "onnx_model_path = \"gpt2.onnx\"\n",
    "ort_session = ort.InferenceSession(onnx_model_path, providers=['mps'])\n",
    "benchmark_onnx_model(onnx_model_path, provider='mps')\n",
    "ort.get_device()"
   ]
  },
  {
   "cell_type": "markdown",
   "metadata": {},
   "source": [
    "### Can run these tests of different execution providers on all the Models"
   ]
  },
  {
   "cell_type": "code",
   "execution_count": null,
   "metadata": {},
   "outputs": [],
   "source": [
    "model_variants = [\n",
    "    \"gpt2.onnx\",\n",
    "    \"gpt2_optimized.onnx\",\n",
    "    \"gpt2_quantized_dynamic.onnx\",\n",
    "    \"gpt2_quantized_static.onnx\"\n",
    "]\n",
    "\n",
    "for model in model_variants:\n",
    "    for provider in [\"CPUExecutionProvider\", \"CUDAExecutionProvider\", \"TensorrtExecutionProvider\"]:\n",
    "        if provider in ort.get_available_providers():\n",
    "            benchmark_onnx_model(model, provider=provider)\n"
   ]
  }
 ],
 "metadata": {
  "kernelspec": {
   "display_name": "Python 3 (ipykernel)",
   "language": "python",
   "name": "python3"
  },
  "language_info": {
   "codemirror_mode": {
    "name": "ipython",
    "version": 3
   },
   "file_extension": ".py",
   "mimetype": "text/x-python",
   "name": "python",
   "nbconvert_exporter": "python",
   "pygments_lexer": "ipython3",
   "version": "3.9.21"
  }
 },
 "nbformat": 4,
 "nbformat_minor": 4
}
