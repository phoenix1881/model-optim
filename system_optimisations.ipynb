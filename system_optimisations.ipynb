{
 "cells": [
  {
   "cell_type": "markdown",
   "id": "edefc7f3-67e8-4491-8022-46b91e104d32",
   "metadata": {},
   "source": [
    "### Fast API"
   ]
  },
  {
   "cell_type": "markdown",
   "id": "f1f23a38-212c-4816-b5bd-335e85bfa030",
   "metadata": {},
   "source": [
    "Run fast_api.py file using the below command \n",
    "\n",
    "uvicorn fast_api:app --host 0.0.0.0 --port 8000 --workers 4\n",
    "\n",
    "this will give you the Fast API app for testing\n",
    "\n",
    "Test this on http://localhost:8000/docs \n",
    "\n",
    "Using a request in the format as given below\n",
    "\n",
    "{\n",
    "  \"symptoms\": \"fever and sore throat\",\n",
    "  \"question\": \"what should I do?\"\n",
    "}\n"
   ]
  },
  {
   "cell_type": "markdown",
   "id": "3ea0071f-06b2-49eb-a6c3-03c2ec4d894d",
   "metadata": {},
   "source": [
    "### Testing Single User Load"
   ]
  },
  {
   "cell_type": "code",
   "execution_count": 1,
   "id": "b946d80b-a119-436f-b605-0fc4268502b5",
   "metadata": {},
   "outputs": [
    {
     "name": "stdout",
     "output_type": "stream",
     "text": [
      "📊 Median: 682.74 ms\n",
      "📊 95th Percentile: 732.81 ms\n",
      "📊 99th Percentile: 862.46 ms\n",
      "🚀 Throughput: 1.45 req/s\n"
     ]
    }
   ],
   "source": [
    "import requests, time, numpy as np\n",
    "\n",
    "FASTAPI_URL = \"http://localhost:8000/ask\"\n",
    "payload = {\n",
    "    \"symptoms\": \"fever and cough\",\n",
    "    \"question\": \"what should I do?\"\n",
    "}\n",
    "\n",
    "times = []\n",
    "for _ in range(100):\n",
    "    start = time.time()\n",
    "    res = requests.post(FASTAPI_URL, json=payload)\n",
    "    end = time.time()\n",
    "\n",
    "    if res.status_code == 200:\n",
    "        times.append(end - start)\n",
    "    else:\n",
    "        print(f\"Error: {res.status_code}, Response: {res.text}\")\n",
    "\n",
    "times = np.array(times)\n",
    "print(f\"Median: {np.median(times)*1000:.2f} ms\")\n",
    "print(f\"95th Percentile: {np.percentile(times,95)*1000:.2f} ms\")\n",
    "print(f\"99th Percentile: {np.percentile(times,99)*1000:.2f} ms\")\n",
    "print(f\"Throughput: {len(times)/np.sum(times):.2f} req/s\")\n"
   ]
  },
  {
   "cell_type": "markdown",
   "id": "9717feb5-748f-480a-8b27-d876900459cc",
   "metadata": {},
   "source": [
    "### Multi User Load"
   ]
  },
  {
   "cell_type": "code",
   "execution_count": 3,
   "id": "c0e488b0-c3ee-4045-a150-992b9ec2411c",
   "metadata": {
    "scrolled": true
   },
   "outputs": [
    {
     "name": "stdout",
     "output_type": "stream",
     "text": [
      "Threads: 16, Requests: 200\n",
      "Median: 7180.39 ms\n",
      "95th: 9958.40 ms\n",
      "99th: 11571.84 ms\n",
      "Throughput: 0.14 req/s\n"
     ]
    }
   ],
   "source": [
    "import concurrent.futures, requests, time, numpy as np\n",
    "\n",
    "FASTAPI_URL = \"http://localhost:8000/ask\"\n",
    "payload = {\n",
    "    \"symptoms\": \"headache and dizziness\",\n",
    "    \"question\": \"should I take medicine?\"\n",
    "}\n",
    "\n",
    "def send_request():\n",
    "    start = time.time()\n",
    "    res = requests.post(FASTAPI_URL, json=payload)\n",
    "    return time.time() - start if res.status_code == 200 else None\n",
    "\n",
    "num_threads = 16\n",
    "num_requests = 200\n",
    "\n",
    "with concurrent.futures.ThreadPoolExecutor(max_workers=num_threads) as executor:\n",
    "    results = list(executor.map(lambda _: send_request(), range(num_requests)))\n",
    "\n",
    "# Clean nulls\n",
    "results = np.array([r for r in results if r])\n",
    "print(f\"Threads: {num_threads}, Requests: {len(results)}\")\n",
    "print(f\"Median: {np.median(results)*1000:.2f} ms\")\n",
    "print(f\"95th: {np.percentile(results,95)*1000:.2f} ms\")\n",
    "print(f\"99th: {np.percentile(results,99)*1000:.2f} ms\")\n",
    "print(f\"Throughput: {len(results)/np.sum(results):.2f} req/s\")\n"
   ]
  },
  {
   "cell_type": "markdown",
   "id": "d11e7ee6-910a-4984-b73e-2dc230d4fb17",
   "metadata": {},
   "source": [
    "Run this in Optimisations directory\n",
    "\n",
    "`mkdir -p triton_model_repo/gpt2_quantized/1`\n",
    "\n",
    "`cp models/gpt2_quantized_static.onnx triton_model_repo/gpt2_quantized/1/model.onnx`\n",
    "\n",
    "Check if config.pbtxt exists"
   ]
  },
  {
   "cell_type": "markdown",
   "id": "1c5d5844-bbf7-415b-a216-f55f6627a75a",
   "metadata": {},
   "source": [
    "Create a docker-compose-triton.yaml\n",
    "\n",
    "```\n",
    "version: \"3.8\"\n",
    "services:\n",
    "  triton:\n",
    "    image: nvcr.io/nvidia/tritonserver:23.10-py3\n",
    "    restart: always\n",
    "    shm_size: 1g\n",
    "    ports:\n",
    "      - \"8000:8000\"   # HTTP\n",
    "      - \"8001:8001\"   # gRPC\n",
    "      - \"8002:8002\"   # Metrics\n",
    "    volumes:\n",
    "      - ./triton_model_repo:/models\n",
    "    command: tritonserver --model-repository=/models\n",
    "    deploy:\n",
    "      resources:\n",
    "        reservations:\n",
    "          devices:\n",
    "            - capabilities: [gpu]  # Remove if using CPU\n",
    "```"
   ]
  },
  {
   "cell_type": "markdown",
   "id": "3aba9c4c-092d-4913-a924-9bb45dabc15b",
   "metadata": {},
   "source": [
    "Perf analyser Command\n",
    "\n",
    "```\n",
    "perf_analyzer -m gpt2_quantized \\\n",
    "  -u localhost:8000 \\\n",
    "  -b 1 \\\n",
    "  --shape input_ids:1,20\n",
    "```\n",
    "\n",
    "With Concurrency\n",
    "\n",
    "```\n",
    "perf_analyzer -m gpt2_quantized \\\n",
    "  -u localhost:8000 \\\n",
    "  -b 8 \\\n",
    "  --shape input_ids:8,20 \\\n",
    "  --concurrency-range 1:16 \\\n",
    "  --percentile 95\n",
    "```"
   ]
  },
  {
   "cell_type": "markdown",
   "id": "5d0a775d-5d29-476f-b72c-81ddd8ab078c",
   "metadata": {},
   "source": [
    "### Dynamic Batching"
   ]
  },
  {
   "cell_type": "markdown",
   "id": "9073bc92-ce79-425b-90b8-83007185521f",
   "metadata": {},
   "source": [
    "Add this to config.pbtxt\n",
    "\n",
    "```\n",
    "dynamic_batching {\n",
    "  preferred_batch_size: [4, 8]\n",
    "  max_queue_delay_microseconds: 100\n",
    "}\n",
    "```\n",
    "\n",
    "Run Perf Analyser\n",
    "\n",
    "```\n",
    "perf_analyzer -m gpt2_quantized \\\n",
    "  -u localhost:8000 \\\n",
    "  -b 4 \\\n",
    "  --shape input_ids:4,20 \\\n",
    "  --concurrency-range 1:16 \\\n",
    "  --percentile 95 \\\n",
    "  --export-csv-path perf_batch.csv\n",
    "```\n",
    "\n"
   ]
  },
  {
   "cell_type": "markdown",
   "id": "2adcef33-f0f2-48f2-bfb8-591b3e8fbac5",
   "metadata": {},
   "source": [
    "### Scaling"
   ]
  },
  {
   "cell_type": "markdown",
   "id": "12b87711-0bcd-4936-98fc-9335a211e9d7",
   "metadata": {},
   "source": [
    "For Multiple instances\n",
    "\n",
    "```\n",
    "instance_group [\n",
    "  {\n",
    "    count: 2\n",
    "    kind: KIND_GPU\n",
    "    gpus: [0]\n",
    "  }\n",
    "]\n",
    "```\n",
    "\n",
    "For Multiple GPUS\n",
    "\n",
    "```\n",
    "instance_group [\n",
    "  {\n",
    "    count: 1\n",
    "    kind: KIND_GPU\n",
    "    gpus: [0]\n",
    "  },\n",
    "  {\n",
    "    count: 1\n",
    "    kind: KIND_GPU\n",
    "    gpus: [1]\n",
    "  }\n",
    "]\n",
    "\n",
    "```\n",
    "\n",
    "Test\n",
    "\n",
    "```\n",
    "perf_analyzer -m gpt2_quantized \\\n",
    "  -u localhost:8000 \\\n",
    "  -b 8 \\\n",
    "  --shape input_ids:8,20 \\\n",
    "  --concurrency-range 8:32 \\\n",
    "  --percentile 95\n",
    "```"
   ]
  }
 ],
 "metadata": {
  "kernelspec": {
   "display_name": "Python 3 (ipykernel)",
   "language": "python",
   "name": "python3"
  },
  "language_info": {
   "codemirror_mode": {
    "name": "ipython",
    "version": 3
   },
   "file_extension": ".py",
   "mimetype": "text/x-python",
   "name": "python",
   "nbconvert_exporter": "python",
   "pygments_lexer": "ipython3",
   "version": "3.9.21"
  }
 },
 "nbformat": 4,
 "nbformat_minor": 5
}
