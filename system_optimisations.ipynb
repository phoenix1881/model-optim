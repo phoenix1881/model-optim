{
 "cells": [
  {
   "cell_type": "markdown",
   "id": "edefc7f3-67e8-4491-8022-46b91e104d32",
   "metadata": {},
   "source": [
    "### Fast API"
   ]
  },
  {
   "cell_type": "markdown",
   "id": "f1f23a38-212c-4816-b5bd-335e85bfa030",
   "metadata": {},
   "source": [
    "Run fast_api.py file using the below command \n",
    "\n",
    "uvicorn fast_api:app --host 0.0.0.0 --port 8000 --workers 4\n",
    "\n",
    "this will give you the Fast API app for testing\n",
    "\n",
    "Test this on http://localhost:8000/docs \n",
    "\n",
    "Using a request in the format as given below\n",
    "\n",
    "{\n",
    "  \"symptoms\": \"fever and sore throat\",\n",
    "  \"question\": \"what should I do?\"\n",
    "}\n"
   ]
  },
  {
   "cell_type": "markdown",
   "id": "3ea0071f-06b2-49eb-a6c3-03c2ec4d894d",
   "metadata": {},
   "source": [
    "### Testing Single User Load"
   ]
  },
  {
   "cell_type": "code",
   "execution_count": 1,
   "id": "b946d80b-a119-436f-b605-0fc4268502b5",
   "metadata": {},
   "outputs": [
    {
     "name": "stdout",
     "output_type": "stream",
     "text": [
      "📊 Median: 682.74 ms\n",
      "📊 95th Percentile: 732.81 ms\n",
      "📊 99th Percentile: 862.46 ms\n",
      "🚀 Throughput: 1.45 req/s\n"
     ]
    }
   ],
   "source": [
    "import requests, time, numpy as np\n",
    "\n",
    "FASTAPI_URL = \"http://localhost:8000/ask\"\n",
    "payload = {\n",
    "    \"symptoms\": \"fever and cough\",\n",
    "    \"question\": \"what should I do?\"\n",
    "}\n",
    "\n",
    "times = []\n",
    "for _ in range(100):\n",
    "    start = time.time()\n",
    "    res = requests.post(FASTAPI_URL, json=payload)\n",
    "    end = time.time()\n",
    "\n",
    "    if res.status_code == 200:\n",
    "        times.append(end - start)\n",
    "    else:\n",
    "        print(f\"Error: {res.status_code}, Response: {res.text}\")\n",
    "\n",
    "times = np.array(times)\n",
    "print(f\"Median: {np.median(times)*1000:.2f} ms\")\n",
    "print(f\"95th Percentile: {np.percentile(times,95)*1000:.2f} ms\")\n",
    "print(f\"99th Percentile: {np.percentile(times,99)*1000:.2f} ms\")\n",
    "print(f\"Throughput: {len(times)/np.sum(times):.2f} req/s\")\n"
   ]
  },
  {
   "cell_type": "markdown",
   "id": "9717feb5-748f-480a-8b27-d876900459cc",
   "metadata": {},
   "source": [
    "### Multi User Load"
   ]
  },
  {
   "cell_type": "code",
   "execution_count": 3,
   "id": "c0e488b0-c3ee-4045-a150-992b9ec2411c",
   "metadata": {
    "scrolled": true
   },
   "outputs": [
    {
     "name": "stdout",
     "output_type": "stream",
     "text": [
      "Threads: 16, Requests: 200\n",
      "Median: 7180.39 ms\n",
      "95th: 9958.40 ms\n",
      "99th: 11571.84 ms\n",
      "Throughput: 0.14 req/s\n"
     ]
    }
   ],
   "source": [
    "import concurrent.futures, requests, time, numpy as np\n",
    "\n",
    "FASTAPI_URL = \"http://localhost:8000/ask\"\n",
    "payload = {\n",
    "    \"symptoms\": \"headache and dizziness\",\n",
    "    \"question\": \"should I take medicine?\"\n",
    "}\n",
    "\n",
    "def send_request():\n",
    "    start = time.time()\n",
    "    res = requests.post(FASTAPI_URL, json=payload)\n",
    "    return time.time() - start if res.status_code == 200 else None\n",
    "\n",
    "num_threads = 16\n",
    "num_requests = 200\n",
    "\n",
    "with concurrent.futures.ThreadPoolExecutor(max_workers=num_threads) as executor:\n",
    "    results = list(executor.map(lambda _: send_request(), range(num_requests)))\n",
    "\n",
    "# Clean nulls\n",
    "results = np.array([r for r in results if r])\n",
    "print(f\"Threads: {num_threads}, Requests: {len(results)}\")\n",
    "print(f\"Median: {np.median(results)*1000:.2f} ms\")\n",
    "print(f\"95th: {np.percentile(results,95)*1000:.2f} ms\")\n",
    "print(f\"99th: {np.percentile(results,99)*1000:.2f} ms\")\n",
    "print(f\"Throughput: {len(results)/np.sum(results):.2f} req/s\")\n"
   ]
  },
  {
   "cell_type": "code",
   "execution_count": null,
   "id": "45717a41",
   "metadata": {},
   "outputs": [],
   "source": [
    "#Dynamic Batching use dynamic_app.py in fastapi"
   ]
  }
 ],
 "metadata": {
  "kernelspec": {
   "display_name": "Python 3 (ipykernel)",
   "language": "python",
   "name": "python3"
  },
  "language_info": {
   "codemirror_mode": {
    "name": "ipython",
    "version": 3
   },
   "file_extension": ".py",
   "mimetype": "text/x-python",
   "name": "python",
   "nbconvert_exporter": "python",
   "pygments_lexer": "ipython3",
   "version": "3.9.21"
  }
 },
 "nbformat": 4,
 "nbformat_minor": 5
}
